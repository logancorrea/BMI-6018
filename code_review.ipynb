{
 "cells": [
  {
   "cell_type": "code",
   "execution_count": 1,
   "id": "e0e6769f-14ed-45a7-9244-d277634320f2",
   "metadata": {
    "executionCancelledAt": null,
    "executionTime": 54,
    "lastExecutedAt": 1696188983227,
    "lastScheduledRunId": null,
    "lastSuccessfullyExecutedCode": "#looking for the last assigned value of the logical tracker\n\n#tracker is assigned boolean value \"True\" which is equal to the built in Boolean constant \"1\". logical_tracker = 1\nlogical_tracker = True\nprint(logical_tracker)\n\n#In logical AND operation, both operands need to be \"True\" for the result to be true, which is the case here. 1 & 1 = 1\nlogical_tracker = logical_tracker & logical_tracker\nprint(logical_tracker)\n\n#In logical OR operation, only one operand needs to be \"True\" for the the result to be true. 1 or (1-1) = 1 = True\nlogical_tracker = logical_tracker | (logical_tracker - logical_tracker)\nprint(logical_tracker)\n",
    "outputsMetadata": {
     "0": {
      "height": 76,
      "type": "stream"
     }
    }
   },
   "outputs": [
    {
     "name": "stdout",
     "output_type": "stream",
     "text": [
      "True\n",
      "True\n",
      "1\n"
     ]
    }
   ],
   "source": [
    "#looking for the last assigned value of the logical tracker\n",
    "\n",
    "#tracker is assigned boolean value \"True\" which is equal to the built in Boolean constant \"1\". logical_tracker = 1\n",
    "logical_tracker = True\n",
    "print(logical_tracker)\n",
    "\n",
    "#In logical AND operation, both operands need to be \"True\" for the result to be true, which is the case here. 1 & 1 = 1\n",
    "logical_tracker = logical_tracker & logical_tracker\n",
    "print(logical_tracker)\n",
    "\n",
    "#In logical OR operation, only one operand needs to be \"True\" for the the result to be true. 1 or (1-1) = 1 = True\n",
    "logical_tracker = logical_tracker | (logical_tracker - logical_tracker)\n",
    "print(logical_tracker)\n"
   ]
  },
  {
   "cell_type": "code",
   "execution_count": null,
   "id": "385584f0-5e4c-49b2-a9fc-8b0516881862",
   "metadata": {},
   "outputs": [],
   "source": []
  }
 ],
 "metadata": {
  "editor": "DataCamp Workspace",
  "kernelspec": {
   "display_name": "Python 3 (ipykernel)",
   "language": "python",
   "name": "python3"
  },
  "language_info": {
   "codemirror_mode": {
    "name": "ipython",
    "version": 3
   },
   "file_extension": ".py",
   "mimetype": "text/x-python",
   "name": "python",
   "nbconvert_exporter": "python",
   "pygments_lexer": "ipython3",
   "version": "3.11.4"
  }
 },
 "nbformat": 4,
 "nbformat_minor": 5
}
